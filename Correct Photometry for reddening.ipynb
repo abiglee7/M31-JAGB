{
 "cells": [
  {
   "cell_type": "code",
   "execution_count": 1,
   "metadata": {},
   "outputs": [],
   "source": [
    "import numpy as np\n",
    "from astropy.table import Table, vstack\n",
    "import astropy\n",
    "import matplotlib.pyplot as plt\n",
    "import pandas as pd\n",
    "from astropy.io import ascii\n",
    "import glob\n",
    "from jagb_func import custom_hist, simple_gaussian, GLOESS\n",
    "import statistics\n",
    "from matplotlib import gridspec\n",
    "from astropy.coordinates import ICRS, Galactic, Distance, Angle, SkyCoord\n",
    "from astropy import units as u\n",
    "from astropy.io import fits\n",
    "from scipy.optimize import leastsq\n",
    "from scipy.special import erf\n",
    "from scipy.optimize import curve_fit\n",
    "from astropy.wcs import WCS\n",
    "from scipy import stats\n"
   ]
  },
  {
   "cell_type": "markdown",
   "metadata": {},
   "source": [
    "### Read in Dust Map"
   ]
  },
  {
   "cell_type": "code",
   "execution_count": 2,
   "metadata": {},
   "outputs": [],
   "source": [
    "imagename = '/Users/abigaillee/Photometry/M31 PHAT Photometry/Draine Maps/M31_M160_111_SSS_111_Model_All_SurfBr_Mdust.fits'\n",
    "\n",
    "image_data = fits.getdata(imagename, ext=0)\n",
    "hdu = fits.open(imagename)[0]\n",
    "wcs = WCS(hdu.header)\n",
    "data = hdu.data\n"
   ]
  },
  {
   "cell_type": "code",
   "execution_count": 3,
   "metadata": {},
   "outputs": [],
   "source": [
    "def correct_reddening(table,data):\n",
    "    # use wcs of dust map to transform ra/dec of PHAT stars to X/Y\n",
    "    x_table, y_table = wcs.all_world2pix(table['ra'],table['dec'],1)\n",
    "    \n",
    "    # create bin edges\n",
    "    binx = np.linspace(0,694,695)-.5\n",
    "    biny = np.linspace(0,694,695)-.5\n",
    "    \n",
    "    # bin number of each star in PHAT table\n",
    "    ret = stats.binned_statistic_2d(x_table,y_table, None, 'count', bins=[binx,biny])\n",
    "    \n",
    "    # eliminate \"outer bins\"\n",
    "    ny = len(biny) - 1 # there is one bin less than there are boundaries\n",
    "    res_binnumber = ret.binnumber - 2 * (ret.binnumber // (ny+2)) - ny - 1 # this is now the bin number for each star in the PHAT able corresponding to the draine maps\n",
    "    \n",
    "    table['f110w_cor'] = table['f110w_vega']-data.flatten()[res_binnumber]*.7394/10**5 *.337*.213\n",
    "    table['f814w_cor'] = table['f814w_vega']-data.flatten()[res_binnumber]*.7394/10**5 *.610*.213\n",
    "    return table\n",
    "\n",
    "    "
   ]
  },
  {
   "cell_type": "markdown",
   "metadata": {},
   "source": [
    "#### Read in PHAT photometry for bricks 18-23"
   ]
  },
  {
   "cell_type": "code",
   "execution_count": null,
   "metadata": {},
   "outputs": [],
   "source": [
    "# apply good star cuts and remove stars with magnitudes of 99.999\n",
    "t= Table.read('/Users/abigaillee/Photometry/M31 PHAT Photometry/raw PHAT/hlsp_phat_hst_wfc3-uvis-acs-wfc-wfc3-ir_12108-m31-b18_f275w-f336w-f475w-f814w-f110w-f160w_v2_st.fits')\n",
    "b18=t[(t['f110w_gst']==True)&(t['f814w_gst']==True)&(t['f110w_vega']<90)&(t['f814w_vega']<90)]\n",
    "b18['Brick']=np.ones(len(b18))*18\n",
    "\n",
    "t = Table.read('/Users/abigaillee/Photometry/M31 PHAT Photometry/raw PHAT/hlsp_phat_hst_wfc3-uvis-acs-wfc-wfc3-ir_12110-m31-b19_f275w-f336w-f475w-f814w-f110w-f160w_v2_st.fits')\n",
    "b19=t[(t['f110w_gst']==True)&(t['f814w_gst']==True)&(t['f110w_vega']<90)&(t['f814w_vega']<90)]\n",
    "b19['Brick']=np.ones(len(b19))*19\n",
    "\n",
    "t = Table.read('/Users/abigaillee/Photometry/M31 PHAT Photometry/raw PHAT/hlsp_phat_hst_wfc3-uvis-acs-wfc-wfc3-ir_12112-m31-b20_f275w-f336w-f475w-f814w-f110w-f160w_v2_st.fits')\n",
    "b20=t[(t['f110w_gst']==True)&(t['f814w_gst']==True)&(t['f110w_vega']<90)&(t['f814w_vega']<90)]\n",
    "b20['Brick']=np.ones(len(b20))*20\n",
    "\n",
    "t = Table.read('/Users/abigaillee/Photometry/M31 PHAT Photometry/raw PHAT/hlsp_phat_hst_wfc3-uvis-acs-wfc-wfc3-ir_12055-m31-b21_f275w-f336w-f475w-f814w-f110w-f160w_v2_st.fits')\n",
    "b21=t[(t['f110w_gst']==True)&(t['f814w_gst']==True)&(t['f110w_vega']<90)&(t['f814w_vega']<90)]\n",
    "b21['Brick']=np.ones(len(b21))*21\n",
    "\n",
    "t = Table.read('/Users/abigaillee/Photometry/M31 PHAT Photometry/raw PHAT/hlsp_phat_hst_wfc3-uvis-acs-wfc-wfc3-ir_12076-m31-b22_f275w-f336w-f475w-f814w-f110w-f160w_v2_st.fits')\n",
    "b22=t[(t['f110w_gst']==True)&(t['f814w_gst']==True)&(t['f110w_vega']<90)&(t['f814w_vega']<90)]\n",
    "b22.remove_rows(b22['field']==8) # remove field 8\n",
    "b22['Brick']=np.ones(len(b22))*22\n",
    "\n",
    "t = Table.read('/Users/abigaillee/Photometry/M31 PHAT Photometry/raw PHAT/hlsp_phat_hst_wfc3-uvis-acs-wfc-wfc3-ir_12070-m31-b23_f275w-f336w-f475w-f814w-f110w-f160w_v2_st.fits')\n",
    "b23=t[(t['f110w_gst']==True)&(t['f814w_gst']==True)&(t['f110w_vega']<90)&(t['f814w_vega']<90)]\n",
    "b23['Brick']=np.ones(len(b23))*23\n",
    "\n",
    "t = vstack([b18, b19, b20, b21, b22, b23])\n"
   ]
  },
  {
   "cell_type": "markdown",
   "metadata": {},
   "source": [
    "## Correct PHAT photometry for reddening"
   ]
  },
  {
   "cell_type": "code",
   "execution_count": null,
   "metadata": {},
   "outputs": [],
   "source": [
    "t = correct_reddening(t, data)\n",
    "t['f110w_vega']=t['f110w_cor']\n",
    "t['f814w_vega']=t['f814w_cor']"
   ]
  },
  {
   "cell_type": "markdown",
   "metadata": {},
   "source": [
    "## Split Table into 10 regions\n",
    "These 10 regions were created using the reddening-uncorrected photometry"
   ]
  },
  {
   "cell_type": "code",
   "execution_count": null,
   "metadata": {},
   "outputs": [],
   "source": [
    "# t is all the data\n",
    "t1 = t[((t['Brick']==18)&(t['field']==18))|((t['Brick']==18)&(t['field']==12))|((t['Brick']==18)&(t['field']==6))\n",
    "      |((t['Brick']==19)&(t['field']==16))|((t['Brick']==19)&(t['field']==17))|((t['Brick']==18)&(t['field']==17))]"
   ]
  },
  {
   "cell_type": "code",
   "execution_count": null,
   "metadata": {},
   "outputs": [],
   "source": [
    "t2 = t[((t['Brick']==19)&(t['field']==15))|((t['Brick']==18)&(t['field']==11))|((t['Brick']==19)&(t['field']==18))\n",
    "      |((t['Brick']==18)&(t['field']==5))|((t['Brick']==19)&(t['field']==14))|((t['Brick']==19)&(t['field']==10))\n",
    "      |((t['Brick']==19)&(t['field']==9))|((t['Brick']==19)&(t['field']==11))]"
   ]
  },
  {
   "cell_type": "code",
   "execution_count": null,
   "metadata": {},
   "outputs": [],
   "source": [
    "t3 = t[((t['Brick']==19)&(t['field']==8))|((t['Brick']==18)&(t['field']==16))|((t['Brick']==19)&(t['field']==13))\n",
    "      |((t['Brick']==18)&(t['field']==10))|((t['Brick']==19)&(t['field']==12))|((t['Brick']==18)&(t['field']==4))\n",
    "      |((t['Brick']==19)&(t['field']==7))|((t['Brick']==19)&(t['field']==3))]"
   ]
  },
  {
   "cell_type": "code",
   "execution_count": null,
   "metadata": {},
   "outputs": [],
   "source": [
    "t4 = t[((t['Brick']==19)&(t['field']==4))|((t['Brick']==19)&(t['field']==2))|((t['Brick']==19)&(t['field']==5))\n",
    "      |((t['Brick']==20)&(t['field']==18))|((t['Brick']==19)&(t['field']==1))|((t['Brick']==20)&(t['field']==12))\n",
    "      |((t['Brick']==18)&(t['field']==9))|((t['Brick']==18)&(t['field']==3))|((t['Brick']==19)&(t['field']==6))\n",
    "      |((t['Brick']==18)&(t['field']==15))]"
   ]
  },
  {
   "cell_type": "code",
   "execution_count": null,
   "metadata": {},
   "outputs": [],
   "source": [
    "t5 = t[((t['Brick']==21)&(t['field']==16))|((t['Brick']==21)&(t['field']==15))|((t['Brick']==21)&(t['field']==17))\n",
    "      |((t['Brick']==20)&(t['field']==6))|((t['Brick']==21)&(t['field']==14))|((t['Brick']==20)&(t['field']==17))\n",
    "      |((t['Brick']==21)&(t['field']==18))|((t['Brick']==21)&(t['field']==13))|((t['Brick']==20)&(t['field']==11))\n",
    "      |((t['Brick']==21)&(t['field']==9))]"
   ]
  },
  {
   "cell_type": "code",
   "execution_count": null,
   "metadata": {},
   "outputs": [],
   "source": [
    "t6 = t[((t['Brick']==21)&(t['field']==10))|((t['Brick']==21)&(t['field']==8))|((t['Brick']==20)&(t['field']==5))\n",
    "      |((t['Brick']==18)&(t['field']==2))|((t['Brick']==21)&(t['field']==11))|((t['Brick']==18)&(t['field']==8))\n",
    "      |((t['Brick']==21)&(t['field']==7))|((t['Brick']==22)&(t['field']==18))|((t['Brick']==18)&(t['field']==14))\n",
    "      ]"
   ]
  },
  {
   "cell_type": "code",
   "execution_count": null,
   "metadata": {},
   "outputs": [],
   "source": [
    "t7 = t[((t['Brick']==21)&(t['field']==12))|((t['Brick']==20)&(t['field']==16))|((t['Brick']==21)&(t['field']==3))\n",
    "      |((t['Brick']==21)&(t['field']==2))|((t['Brick']==22)&(t['field']==12))|((t['Brick']==20)&(t['field']==10))\n",
    "      |((t['Brick']==21)&(t['field']==1))|((t['Brick']==21)&(t['field']==4))|((t['Brick']==20)&(t['field']==4))\n",
    "      |((t['Brick']==22)&(t['field']==17))|((t['Brick']==22)&(t['field']==6))]"
   ]
  },
  {
   "cell_type": "code",
   "execution_count": null,
   "metadata": {},
   "outputs": [],
   "source": [
    "t8 = t[((t['Brick']==21)&(t['field']==5))|((t['Brick']==18)&(t['field']==1))|((t['Brick']==22)&(t['field']==11))\n",
    "      |((t['Brick']==23)&(t['field']==17))|((t['Brick']==23)&(t['field']==18))|((t['Brick']==18)&(t['field']==7))\n",
    "      |((t['Brick']==23)&(t['field']==16))|((t['Brick']==21)&(t['field']==6))|((t['Brick']==22)&(t['field']==5))\n",
    "      |((t['Brick']==18)&(t['field']==13))|((t['Brick']==20)&(t['field']==9))|((t['Brick']==20)&(t['field']==3))\n",
    "      |((t['Brick']==20)&(t['field']==15))]"
   ]
  },
  {
   "cell_type": "code",
   "execution_count": null,
   "metadata": {},
   "outputs": [],
   "source": [
    "t9 = t[((t['Brick']==23)&(t['field']==15))|((t['Brick']==22)&(t['field']==16))|((t['Brick']==22)&(t['field']==10))\n",
    "      |((t['Brick']==23)&(t['field']==11))|((t['Brick']==23)&(t['field']==10))|((t['Brick']==23)&(t['field']==12))\n",
    "      |((t['Brick']==22)&(t['field']==4))|((t['Brick']==23)&(t['field']==14))|((t['Brick']==23)&(t['field']==9))\n",
    "      |((t['Brick']==23)&(t['field']==8))|((t['Brick']==22)&(t['field']==15))|((t['Brick']==20)&(t['field']==2))\n",
    "      |((t['Brick']==23)&(t['field']==4))|((t['Brick']==20)&(t['field']==8))|((t['Brick']==23)&(t['field']==13))\n",
    "      |((t['Brick']==22)&(t['field']==9))]"
   ]
  },
  {
   "cell_type": "code",
   "execution_count": null,
   "metadata": {},
   "outputs": [],
   "source": [
    "t10 = t[((t['Brick']==23)&(t['field']==5))|((t['Brick']==23)&(t['field']==3))|((t['Brick']==20)&(t['field']==14))\n",
    "      |((t['Brick']==22)&(t['field']==3))|((t['Brick']==23)&(t['field']==6))|((t['Brick']==23)&(t['field']==7))\n",
    "      |((t['Brick']==23)&(t['field']==2))|((t['Brick']==23)&(t['field']==1))|((t['Brick']==22)&(t['field']==14))\n",
    "      |((t['Brick']==20)&(t['field']==1))|((t['Brick']==22)&(t['field']==2))|((t['Brick']==20)&(t['field']==7))\n",
    "      |((t['Brick']==20)&(t['field']==13))|((t['Brick']==22)&(t['field']==1))|((t['Brick']==22)&(t['field']==7))\n",
    "      |((t['Brick']==22)&(t['field']==13))]"
   ]
  },
  {
   "cell_type": "markdown",
   "metadata": {},
   "source": [
    "### Make tables for JAGB stars"
   ]
  },
  {
   "cell_type": "code",
   "execution_count": null,
   "metadata": {},
   "outputs": [],
   "source": [
    "r1 = t1[((t1['f814w_vega']-t1['f110w_vega'])<2.3)&((t1['f814w_vega']-t1['f110w_vega'])>2)&(t1['f110w_vega']<22)]\n",
    "r2 = t2[((t2['f814w_vega']-t2['f110w_vega'])<2.3)&((t2['f814w_vega']-t2['f110w_vega'])>2)&(t2['f110w_vega']<22)]\n",
    "r3 = t3[((t3['f814w_vega']-t3['f110w_vega'])<2.3)&((t3['f814w_vega']-t3['f110w_vega'])>2)&(t3['f110w_vega']<22)]\n",
    "r4 = t4[((t4['f814w_vega']-t4['f110w_vega'])<2.3)&((t4['f814w_vega']-t4['f110w_vega'])>2)&(t4['f110w_vega']<22)]\n",
    "r5 = t5[((t5['f814w_vega']-t5['f110w_vega'])<2.3)&((t5['f814w_vega']-t5['f110w_vega'])>2)&(t5['f110w_vega']<22)]\n",
    "r6 = t6[((t6['f814w_vega']-t6['f110w_vega'])<2.3)&((t6['f814w_vega']-t6['f110w_vega'])>2)&(t6['f110w_vega']<22)]\n",
    "r7 = t7[((t7['f814w_vega']-t7['f110w_vega'])<2.3)&((t7['f814w_vega']-t7['f110w_vega'])>2)&(t7['f110w_vega']<22)]\n",
    "r8 = t8[((t8['f814w_vega']-t8['f110w_vega'])<2.3)&((t8['f814w_vega']-t8['f110w_vega'])>2)&(t8['f110w_vega']<22)]\n",
    "r9 = t9[((t9['f814w_vega']-t9['f110w_vega'])<2.3)&((t9['f814w_vega']-t9['f110w_vega'])>2)&(t9['f110w_vega']<22)]\n",
    "r10 = t10[((t10['f814w_vega']-t10['f110w_vega'])<2.3)&((t10['f814w_vega']-t10['f110w_vega'])>2)&(t10['f110w_vega']<22)]\n",
    "\n",
    "\n"
   ]
  },
  {
   "cell_type": "code",
   "execution_count": null,
   "metadata": {},
   "outputs": [],
   "source": []
  }
 ],
 "metadata": {
  "kernelspec": {
   "display_name": "Python 3",
   "language": "python",
   "name": "python3"
  },
  "language_info": {
   "codemirror_mode": {
    "name": "ipython",
    "version": 3
   },
   "file_extension": ".py",
   "mimetype": "text/x-python",
   "name": "python",
   "nbconvert_exporter": "python",
   "pygments_lexer": "ipython3",
   "version": "3.8.5"
  }
 },
 "nbformat": 4,
 "nbformat_minor": 4
}
