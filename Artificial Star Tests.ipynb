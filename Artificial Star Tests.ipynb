{
 "cells": [
  {
   "cell_type": "code",
   "execution_count": 1,
   "metadata": {},
   "outputs": [],
   "source": [
    "import numpy as np\n",
    "from astropy.table import Table, vstack\n",
    "import astropy\n",
    "import matplotlib.pyplot as plt\n",
    "import pandas as pd\n",
    "from astropy.io import ascii\n",
    "from jagb_func import custom_hist, simple_gaussian, GLOESS\n",
    "from matplotlib import gridspec\n"
   ]
  },
  {
   "cell_type": "code",
   "execution_count": 2,
   "metadata": {},
   "outputs": [],
   "source": [
    "# read in PHAT artificial stars\n",
    "data = ascii.read(\"/Users/abigaillee/Photometry/M31 PHAT Photometry/AST/apjs502042t6_mrt.txt\",format='cds')  \n",
    "\n",
    "# only use brick 21 field 15\n",
    "data = data[data['DEdeg']>42]"
   ]
  },
  {
   "cell_type": "markdown",
   "metadata": {},
   "source": [
    "## Measure completeness of 213 artificial JAGB stars"
   ]
  },
  {
   "cell_type": "code",
   "execution_count": 11,
   "metadata": {},
   "outputs": [
    {
     "name": "stdout",
     "output_type": "stream",
     "text": [
      "213\n"
     ]
    }
   ],
   "source": [
    "# only use JAGB stars\n",
    "data_cut = data[((data['F814W-in']-data['F110W-in'])>2)&((data['F814W-in']-data['F110W-in'])<2.3)]\n",
    "print(len(data_cut))"
   ]
  },
  {
   "cell_type": "code",
   "execution_count": 12,
   "metadata": {},
   "outputs": [],
   "source": [
    "# measure completeness in two bins, for F110W<20 and F110W>20\n",
    "x = np.arange(16,26.5,4)\n",
    "\n",
    "completeness=[]\n",
    "no_stars = []\n",
    "for i in range(len(x)-1):\n",
    "    subset = data_cut[(data_cut['F110W-in']>x[i])&(data_cut['F110W-in']<x[i+1])]\n",
    "    completeness.append(len(subset[subset['F110W-out']!=99.999])/len(subset))\n",
    "    no_stars.append(len(subset))\n"
   ]
  },
  {
   "cell_type": "code",
   "execution_count": 13,
   "metadata": {},
   "outputs": [
    {
     "data": {
      "text/plain": [
       "[1.0, 0.9552238805970149]"
      ]
     },
     "execution_count": 13,
     "metadata": {},
     "output_type": "execute_result"
    }
   ],
   "source": [
    "completeness"
   ]
  },
  {
   "cell_type": "markdown",
   "metadata": {},
   "source": [
    "## Measure photometric offsets for whole dataset"
   ]
  },
  {
   "cell_type": "code",
   "execution_count": null,
   "metadata": {},
   "outputs": [],
   "source": [
    "# remove outliers\n",
    "data_clean = data[((data['F110W-in']-data['F110W-out'])>-5)&(data['F110W-in']<40)]\n",
    "\n",
    "offset=[]\n",
    "offset_std = []\n",
    "mags = np.arange(16.5,22.5,1)\n",
    "for i in range(len(mags)-1):\n",
    "    subset = data_clean[(data_clean['F110W-in']>mags[i])&(data_clean['F110W-in']<mags[i+1])]\n",
    "    offset.append(np.median(subset['F110W-in']-subset['F110W-out']))\n",
    "    offset_std.append(np.std(subset['F110W-in']-subset['F110W-out'])/np.sqrt(len(subset)))"
   ]
  },
  {
   "cell_type": "code",
   "execution_count": null,
   "metadata": {},
   "outputs": [],
   "source": [
    "fig, ax = plt.subplots(figsize=(6,4))\n",
    "\n",
    "\n",
    "ax.scatter(data['F110W-in'],data['F110W-in']-data['F110W-out'],s=.1,color='black')\n",
    "ax.axhline(0, color='lightblue',ls='--',lw=2)\n",
    "ax.set_xlabel('$F110W_{in}$',fontsize=20)\n",
    "ax.set_ylabel('$F110W_{in}-F110W_{out}$',fontsize=20)\n",
    "ax.errorbar([17,18,19,20,21],offset,color='red',ms=6,fmt='o')\n",
    "\n",
    "ax.set_ylim(-.18,.18)\n",
    "ax.set_xlim(16.1, 21.9)\n",
    "ax.set_yticks([-.1,0,.1])\n",
    "ax.set_yticklabels(['-0.1','0','0.1'], family='serif', fontsize=16)\n",
    "\n",
    "ax.tick_params(direction='in')\n",
    "ax.yaxis.set_ticks_position('both')\n",
    "\n",
    "ax.xaxis.set_ticks_position('both')\n",
    "ax.set_xticks([17,18,19,20,21])\n",
    "ax.set_xticklabels(['17','18','19','20','21'], family='serif', fontsize=16)\n",
    "\n",
    "plt.savefig('/Users/abigaillee/Documents/Research/M31 figures/offset.png',dpi=300,bbox_inches='tight')\n",
    "plt.show()\n",
    "\n"
   ]
  }
 ],
 "metadata": {
  "kernelspec": {
   "display_name": "Python 3",
   "language": "python",
   "name": "python3"
  },
  "language_info": {
   "codemirror_mode": {
    "name": "ipython",
    "version": 3
   },
   "file_extension": ".py",
   "mimetype": "text/x-python",
   "name": "python",
   "nbconvert_exporter": "python",
   "pygments_lexer": "ipython3",
   "version": "3.8.5"
  }
 },
 "nbformat": 4,
 "nbformat_minor": 4
}
